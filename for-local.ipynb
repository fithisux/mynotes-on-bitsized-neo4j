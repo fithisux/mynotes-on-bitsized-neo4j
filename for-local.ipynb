{
 "cells": [
  {
   "cell_type": "code",
   "execution_count": null,
   "id": "26b43ecc-858f-403d-b60e-80a87892268e",
   "metadata": {},
   "outputs": [],
   "source": [
    "import pandas as pd"
   ]
  },
  {
   "cell_type": "code",
   "execution_count": null,
   "id": "8833bd66-ccc5-4042-9a01-6223fa115a20",
   "metadata": {},
   "outputs": [],
   "source": [
    "user_data = {\n",
    "    'id': list(range(5)),\n",
    "    'name': ['Alice', 'Brian', 'Carla', 'Devid', 'Ed']\n",
    "}"
   ]
  },
  {
   "cell_type": "code",
   "execution_count": null,
   "id": "4743b8a7-2c9d-4685-8850-f752dc4df722",
   "metadata": {},
   "outputs": [],
   "source": [
    "user_df = pd.DataFrame(user_data)\n",
    "user_df"
   ]
  },
  {
   "cell_type": "code",
   "execution_count": null,
   "id": "cca7082b-714e-4f90-bc22-d4e1f74387a0",
   "metadata": {},
   "outputs": [],
   "source": [
    "tweet_data = {\n",
    "    'id': list(range(100,1100,100)),\n",
    "    'text': ['Hi', 'Hello', 'Yo', 'Sup', 'Bye', 'Later', 'Ciao', 'Peace', 'See ya', 'Out']\n",
    "}\n",
    "\n",
    "tweet_df = pd.DataFrame(tweet_data)\n",
    "tweet_df"
   ]
  },
  {
   "cell_type": "code",
   "execution_count": null,
   "id": "600c2988-03f3-4d3c-aa2e-4a8a4a4523cc",
   "metadata": {},
   "outputs": [],
   "source": [
    "follows_data = {\n",
    "    'source': [0, 0, 1, 2, 3, 4],\n",
    "    'target': [1, 2, 2, 3, 2, 2]\n",
    "}\n",
    "\n",
    "follows_df = pd.DataFrame(follows_data)\n",
    "follows_df"
   ]
  },
  {
   "cell_type": "code",
   "execution_count": null,
   "id": "0d9e01e2-0b1c-468e-9a82-30f54e5689f7",
   "metadata": {},
   "outputs": [],
   "source": [
    "class Neo4jConnection:\n",
    "    \n",
    "    def __init__(self, uri, user, pwd):\n",
    "        \n",
    "        self.__uri = uri\n",
    "        self.__user = user\n",
    "        self.__pwd = pwd\n",
    "        self.__driver = None\n",
    "        \n",
    "        try:\n",
    "            self.__driver = GraphDatabase.driver(self.__uri, auth=(self.__user, self.__pwd))\n",
    "        except Exception as e:\n",
    "            print(\"Failed to create the driver:\", e)\n",
    "        \n",
    "    def close(self):\n",
    "        \n",
    "        if self.__driver is not None:\n",
    "            self.__driver.close()\n",
    "        \n",
    "    def query(self, query, parameters=None, db=None):\n",
    "        \n",
    "        assert self.__driver is not None, \"Driver not initialized!\"\n",
    "        session = None\n",
    "        response = None\n",
    "        \n",
    "        try: \n",
    "            session = self.__driver.session(database=db) if db is not None else self.__driver.session() \n",
    "            response = list(session.run(query, parameters))\n",
    "        except Exception as e:\n",
    "            print(\"Query failed:\", e)\n",
    "        finally: \n",
    "            if session is not None:\n",
    "                session.close()\n",
    "        return response\n",
    "    "
   ]
  },
  {
   "cell_type": "code",
   "execution_count": null,
   "id": "a29c30fa-eec9-4889-bc3e-7dcc72fee8bb",
   "metadata": {},
   "outputs": [],
   "source": [
    "from neo4j import GraphDatabase\n",
    "\n",
    "conn = Neo4jConnection('bolt://localhost:7687', 'neo4j', 'vvanag')"
   ]
  },
  {
   "cell_type": "code",
   "execution_count": null,
   "id": "4295ddca-c3b1-4c2d-b226-a574cbd19c69",
   "metadata": {},
   "outputs": [],
   "source": [
    "conn.query('DROP CONSTRAINT users_unique IF EXISTS')\n",
    "conn.query('DROP CONSTRAINT tweets_unique IF EXISTS')\n",
    "conn.query('CREATE CONSTRAINT users_unique on (u:User) assert u.id is UNIQUE')\n",
    "conn.query('CREATE CONSTRAINT tweets_unique on (t:Tweet) assert t.id is UNIQUE')"
   ]
  },
  {
   "cell_type": "code",
   "execution_count": null,
   "id": "6d0cded0-fe27-4916-abea-c9d40d1d2ce4",
   "metadata": {},
   "outputs": [],
   "source": [
    "import time \n",
    "def insert_data(query, rows, batch_size=10000):\n",
    "    total = 0\n",
    "    batch = 0\n",
    "    start = time.time()\n",
    "    result = None\n",
    "    \n",
    "    while batch * batch_size < len(rows):\n",
    "        res = conn.query(query, parameters = {'rows': rows[batch*batch_size:(batch+1)*batch_size].to_dict('records')})\n",
    "        total += res[0]['total']\n",
    "        batch += 1\n",
    "        result = {'total': total, 'batch': batch, 'time': time.time() - start}\n",
    "        \n",
    "    return result    "
   ]
  },
  {
   "cell_type": "code",
   "execution_count": null,
   "id": "2f3eb2a1-1530-49cf-9a3a-2c6ca7c88f84",
   "metadata": {},
   "outputs": [],
   "source": [
    "def add_users(rows):\n",
    "    query = \"\"\"\n",
    "    UNWIND $rows as row\n",
    "    MERGE (:User {id: row.id, name: row.name})\n",
    "    RETURN COUNT(*) as total\n",
    "    \"\"\"\n",
    "    \n",
    "    return insert_data(query, rows)\n",
    "\n",
    "add_users(user_df)"
   ]
  },
  {
   "cell_type": "code",
   "execution_count": null,
   "id": "4697766b-a474-429c-8ae9-eddd71b1b618",
   "metadata": {},
   "outputs": [],
   "source": [
    "def add_tweets(rows):\n",
    "    query = \"\"\"\n",
    "    UNWIND $rows as row\n",
    "    MERGE (:Tweet {id: row.id, text: row.text})\n",
    "    RETURN COUNT(*) as total\n",
    "    \"\"\"\n",
    "    \n",
    "    return insert_data(query, rows)\n",
    "\n",
    "add_tweets(tweet_df)"
   ]
  },
  {
   "cell_type": "code",
   "execution_count": null,
   "id": "efae3a44-7e05-4b37-8c4a-0cb0a5eafd08",
   "metadata": {},
   "outputs": [],
   "source": [
    "def add_follows(rows):\n",
    "    query = \"\"\"\n",
    "    UNWIND $rows as row\n",
    "    MATCH (source:User {id:row.source})\n",
    "    MATCH (target:User {id:row.target})\n",
    "    MERGE (source) -[r:FOLLOWS] -> (target)\n",
    "    RETURN COUNT(r) as total\n",
    "    \"\"\"\n",
    "    \n",
    "    return insert_data(query, rows)\n",
    "\n",
    "add_follows(follows_df)"
   ]
  },
  {
   "cell_type": "code",
   "execution_count": null,
   "id": "41f40ac1-f21e-423a-a7eb-ad9712bd736d",
   "metadata": {},
   "outputs": [],
   "source": [
    "def add_writes_rel(rows):\n",
    "    query = \"\"\"\n",
    "    UNWIND $rows as row\n",
    "    MATCH (source:User {id:row.source})\n",
    "    MATCH (target:Tweet {id:row.target})\n",
    "    MERGE (source) -[r:WRITES] -> (target)\n",
    "    RETURN COUNT(r) as total\n",
    "    \"\"\"\n",
    "    \n",
    "    return insert_data(query, rows)\n",
    "\n",
    "tweeted_data = {\n",
    "    'target': list(range(100,1100,100)),\n",
    "    'source': [0 ,0, 1, 1, 2, 2, 3, 3, 4, 4]\n",
    "}\n",
    "\n",
    "tweeted_df = pd.DataFrame(tweeted_data)\n",
    "tweeted_df\n",
    "\n",
    "add_writes_rel(tweeted_df)"
   ]
  },
  {
   "cell_type": "code",
   "execution_count": null,
   "id": "cf1ec8e1-f83f-4060-be50-506981a63c20",
   "metadata": {},
   "outputs": [],
   "source": [
    "#clean all\n",
    "\n",
    "delete_all_edges_query = \"match( ()-[r]->()) delete r;\"\n",
    "delete_all_nodes_query = \"match (n) delete n;\"\n",
    "\n",
    "conn.query(delete_all_edges_query)\n",
    "conn.query(delete_all_nodes_query)"
   ]
  },
  {
   "cell_type": "code",
   "execution_count": null,
   "id": "c4c6f46e-075e-4a0e-bc80-205c3c04bc9f",
   "metadata": {},
   "outputs": [],
   "source": [
    "conn.query(\"DROP CONSTRAINT character_unique IF EXISTS\")\n",
    "constraint_query = \"CREATE CONSTRAINT character_unique on (c:Character) assert c.id is UNIQUE\"\n",
    "\n",
    "csv_population_query = \"\"\"\n",
    "with 'https://raw.githubusercontent.com/mathbeveridge/gameofthrones/master/data/got-s1-nodes.csv' as url \n",
    "load csv with headers from url as row \n",
    "merge (c:Character {id: row.Id}) set c.name=row.Label\n",
    "\"\"\"\n",
    "\n",
    "conn.query(constraint_query)\n",
    "conn.query(csv_population_query)\n",
    "conn.query(\"match (n) return count(n);\")"
   ]
  },
  {
   "cell_type": "code",
   "execution_count": null,
   "id": "32ab6fe2-0f00-4622-8031-26e28748924b",
   "metadata": {},
   "outputs": [],
   "source": [
    "relation_query = \"\"\"\n",
    "with 'https://raw.githubusercontent.com/mathbeveridge/gameofthrones/master/data/got-s1-edges.csv' as url \n",
    "load csv with headers from url as row \n",
    "match (source:Character {id: row.Source}) \n",
    "match(target:Character {id: row.Target}) \n",
    "merge (source) - [:SEASON1 {weight: toInteger(row.Weight)}] - (target)\n",
    "\"\"\"\n",
    "\n",
    "conn.query(relation_query)"
   ]
  },
  {
   "cell_type": "code",
   "execution_count": null,
   "id": "459acd52-af9c-44f9-8f1a-b52ed271c4e8",
   "metadata": {},
   "outputs": [],
   "source": [
    "#clean all\n",
    "\n",
    "delete_all_edges_query = \"match( ()-[r]->()) delete r;\"\n",
    "delete_all_nodes_query = \"match (n) delete n;\"\n",
    "\n",
    "conn.query(delete_all_edges_query)\n",
    "conn.query(delete_all_nodes_query)\n",
    "\n",
    "conn.query('match (n) return count(n)')"
   ]
  },
  {
   "cell_type": "code",
   "execution_count": null,
   "id": "22f41e97-60e6-49b4-b319-1fed9008b1af",
   "metadata": {},
   "outputs": [],
   "source": [
    "#apoc\n",
    "conn.query(\"DROP CONSTRAINT node_unique IF EXISTS\")\n",
    "constraint_query = \"CREATE CONSTRAINT node_unique ON (n:Node) assert n.neo4jImportId IS UNIQUE;\" #hinted by neo4j !!yay!!\n",
    "conn.query(constraint_query)\n",
    "conn.query('call apoc.import.json(\"https://raw.githubusercontent.com/cj2001/nodes2021_kg_workshop/main/json_files/wiki.json\")')\n",
    "conn.query('match (n) return count(n)')"
   ]
  },
  {
   "cell_type": "code",
   "execution_count": null,
   "id": "697a42fc-122a-442e-b459-84d82e9ad67a",
   "metadata": {},
   "outputs": [],
   "source": [
    "#and a yummy sparql query from the lesson\n",
    "\n",
    "# select ?breweryLabel ?breweryDescription ?city ?cityLabel\n",
    "# where\n",
    "# {\n",
    "#   ?brewery wdt:P31/wdt:P279* wd:Q131734 ;\n",
    "#            wdt:P17 wd:Q183 ;\n",
    "#            wdt:P131 ?city .\n",
    "#   service wikibase:label {\n",
    "#     bd:serviceParam wikibase:language \"en, de\" .\n",
    "#   }\n",
    "# }\n",
    "# order by asc(?cityLabel)"
   ]
  }
 ],
 "metadata": {
  "kernelspec": {
   "display_name": "Python 3 (ipykernel)",
   "language": "python",
   "name": "python3"
  },
  "language_info": {
   "codemirror_mode": {
    "name": "ipython",
    "version": 3
   },
   "file_extension": ".py",
   "mimetype": "text/x-python",
   "name": "python",
   "nbconvert_exporter": "python",
   "pygments_lexer": "ipython3",
   "version": "3.10.0"
  }
 },
 "nbformat": 4,
 "nbformat_minor": 5
}
