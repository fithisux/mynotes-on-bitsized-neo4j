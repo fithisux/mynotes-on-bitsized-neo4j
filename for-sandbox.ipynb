{
 "cells": [
  {
   "cell_type": "code",
   "execution_count": null,
   "id": "bcf45894-124b-4eba-b8be-a79d61bb6dff",
   "metadata": {},
   "outputs": [],
   "source": [
    "from neo4j import GraphDatabase"
   ]
  },
  {
   "cell_type": "code",
   "execution_count": null,
   "id": "07c11680-593c-482b-9d34-2be04faf5be7",
   "metadata": {},
   "outputs": [],
   "source": [
    "url = ''\n",
    "pwd = ''\n",
    "\n",
    "driver = GraphDatabase.driver(uri=url, auth=(\"neo4j\", pwd))"
   ]
  },
  {
   "cell_type": "code",
   "execution_count": null,
   "id": "75724390-6a91-423a-974d-c1e9ffaa3f26",
   "metadata": {},
   "outputs": [],
   "source": [
    "query = 'MATCH (n) return COUNT(n)'\n",
    "\n",
    "with driver.session() as session:\n",
    "    result = session.run(query)\n",
    "    print(result.single()['COUNT(n)'])"
   ]
  },
  {
   "cell_type": "code",
   "execution_count": null,
   "id": "b322075a-5dcc-4339-bc42-27e1a00b3599",
   "metadata": {},
   "outputs": [],
   "source": [
    "import pandas as pd\n",
    "import numpy as np\n",
    "from py2neo import Graph, Node, Relationship"
   ]
  },
  {
   "cell_type": "code",
   "execution_count": null,
   "id": "abbdc18b-a57f-4e8e-b59e-bfa6d3bdf231",
   "metadata": {},
   "outputs": [],
   "source": [
    "graph = Graph(uri=url, auth=(\"neo4j\", pwd))"
   ]
  },
  {
   "cell_type": "code",
   "execution_count": null,
   "id": "821d31df-b4c2-4f28-a24a-4d489daa5dfa",
   "metadata": {},
   "outputs": [],
   "source": [
    "result = graph.query(query)\n",
    "result"
   ]
  },
  {
   "cell_type": "code",
   "execution_count": null,
   "id": "d3970a3d-ac64-4f69-966b-ed564e51ab2b",
   "metadata": {},
   "outputs": [],
   "source": [
    "type(result)"
   ]
  },
  {
   "cell_type": "code",
   "execution_count": null,
   "id": "a9ef6034-6251-419c-b187-535b723416e3",
   "metadata": {},
   "outputs": [],
   "source": [
    "print(result.data())"
   ]
  },
  {
   "cell_type": "code",
   "execution_count": null,
   "id": "28d69ece-4031-46f4-924f-550d99c6e9b3",
   "metadata": {},
   "outputs": [],
   "source": [
    "print(result)"
   ]
  },
  {
   "cell_type": "code",
   "execution_count": null,
   "id": "1e6b1ed0-644e-4413-841b-b4d21850c503",
   "metadata": {},
   "outputs": [],
   "source": [
    "name_query = \"MATCH (p:Person {name: 'Eddard Stark'}) RETURN p.name as name\"\n",
    "result = graph.query(name_query)\n",
    "for record in result:\n",
    "    print(record['name'])"
   ]
  },
  {
   "cell_type": "code",
   "execution_count": null,
   "id": "88ccd7d3-a926-473a-97d5-68dacdb827ae",
   "metadata": {},
   "outputs": [],
   "source": [
    "query_2hops = \"MATCH (p:Person {name: 'Eddard Stark'}) - [:INTERACTS_1*1..2] -> (p2) RETURN p2.name as name LIMIT 10\"\n",
    "result = graph.query(query_2hops)\n",
    "for record in result:\n",
    "    print(record['name'])"
   ]
  },
  {
   "cell_type": "code",
   "execution_count": null,
   "id": "e8859b05-fffe-4b68-8a32-1624cf11834f",
   "metadata": {},
   "outputs": [],
   "source": [
    "battle_query = \"MATCH (p1:Person) - [:DEFENDER_COMMANDER] -> (b:Battle) <- [:ATTACKER_COMMANDER] - (p2:Person) return p1.name as defender, b.name as battle, p2.name as attacker LIMIT 10\"\n",
    "battle_df = graph.query(battle_query).to_data_frame()\n",
    "battle_df[:10]"
   ]
  },
  {
   "cell_type": "code",
   "execution_count": null,
   "id": "3bb6ecaa-4735-449b-9fa7-8d08db913362",
   "metadata": {},
   "outputs": [],
   "source": [
    "battle_array = graph.query(battle_query).to_ndarray()\n",
    "battle_array , battle_array.dtype"
   ]
  },
  {
   "cell_type": "code",
   "execution_count": null,
   "id": "ba300c42-6222-4194-8244-f053ea77e7e7",
   "metadata": {},
   "outputs": [],
   "source": [
    "# a = Node('Person', name='Clair')\n",
    "# b = Node('Person', name='Emil')\n",
    "# ab = Relationship(a, 'KNOWS', b)\n",
    "# graph.create(ab)\n",
    "# graph.exists(a), graph.exists(ab), graph.exists(b)"
   ]
  },
  {
   "cell_type": "code",
   "execution_count": null,
   "id": "0db3c4b3-54a0-4778-bf76-62f6b652820a",
   "metadata": {},
   "outputs": [],
   "source": [
    "class Neo4jConnection:\n",
    "    \n",
    "    def __init__(self, uri, user, pwd):\n",
    "        \n",
    "        self.__uri = uri\n",
    "        self.__user = user\n",
    "        self.__pwd = pwd\n",
    "        self.__driver = None\n",
    "        \n",
    "        try:\n",
    "            self.__driver = GraphDatabase.driver(self.__uri, auth=(self.__user, self.__pwd))\n",
    "        except Exception as e:\n",
    "            print(\"Failed to create the driver:\", e)\n",
    "        \n",
    "    def close(self):\n",
    "        \n",
    "        if self.__driver is not None:\n",
    "            self.__driver.close()\n",
    "        \n",
    "    def query(self, query, parameters=None, db=None):\n",
    "        \n",
    "        assert self.__driver is not None, \"Driver not initialized!\"\n",
    "        session = None\n",
    "        response = None\n",
    "        \n",
    "        try: \n",
    "            session = self.__driver.session(database=db) if db is not None else self.__driver.session() \n",
    "            response = list(session.run(query, parameters))\n",
    "        except Exception as e:\n",
    "            print(\"Query failed:\", e)\n",
    "        finally: \n",
    "            if session is not None:\n",
    "                session.close()\n",
    "        return response"
   ]
  },
  {
   "cell_type": "code",
   "execution_count": null,
   "id": "413d7705-33fe-4114-bd3e-682eb2155b5e",
   "metadata": {},
   "outputs": [],
   "source": [
    "conn = Neo4jConnection(url, 'neo4j', pwd)"
   ]
  },
  {
   "cell_type": "code",
   "execution_count": null,
   "id": "b590137d-3084-4d5f-b850-9a77ac3e7517",
   "metadata": {},
   "outputs": [],
   "source": [
    "result = conn.query(battle_query)\n",
    "print(result)"
   ]
  },
  {
   "cell_type": "code",
   "execution_count": null,
   "id": "5ac0e43b-2ac9-47a4-bd80-d0184d17ba3f",
   "metadata": {},
   "outputs": [],
   "source": [
    "result = conn.query('MATCH(n) return COUNT(n) as ct')\n",
    "print(result[0]['ct'])"
   ]
  },
  {
   "cell_type": "code",
   "execution_count": null,
   "id": "e78cc4c5-28e7-42b1-b204-cb9f7b13ded3",
   "metadata": {},
   "outputs": [],
   "source": [
    "starks_query = \"\"\"\n",
    "MATCH (p:Person {name: $name}) - [:INTERACTS_1] - (p2:Person) \n",
    "WHERE p2.name contains $fragment \n",
    "RETURN DISTINCT(p2.name) as name\n",
    "\"\"\"\n",
    "result = conn.query(starks_query, parameters={'name': 'Eddard Stark', 'fragment': 'Stark'})\n",
    "for record in result:\n",
    "    print(record['name'])"
   ]
  },
  {
   "cell_type": "code",
   "execution_count": null,
   "id": "9b622102-68fd-49e3-bf58-b9b6bc81df34",
   "metadata": {},
   "outputs": [],
   "source": [
    "query = \"match (p1:Person) -[r]-> (p2:Person) return p1.name, TYPE(r) as the_type, p2.name ORDER BY the_type DESC LIMIT 100\"\n",
    "result = conn.query(query)\n",
    "pd.DataFrame( dict(_) for _ in result)"
   ]
  },
  {
   "cell_type": "code",
   "execution_count": null,
   "id": "3a1df3d2-fe45-4cd2-b24a-89b1a8b22ccb",
   "metadata": {},
   "outputs": [],
   "source": [
    "#in degrees\n",
    "conn.query('match(p:Person) return p.name, size(()-[]->(p)) as inDegree order by inDegree desc LIMIT 1')"
   ]
  },
  {
   "cell_type": "code",
   "execution_count": null,
   "id": "475eb6b1-84e7-480b-8656-7e67df9e908e",
   "metadata": {},
   "outputs": [],
   "source": [
    "#out degree\n",
    "conn.query('match(p:Person) return p.name, size((p)-[]->()) as outDegree order by outDegree desc LIMIT 1')"
   ]
  },
  {
   "cell_type": "code",
   "execution_count": null,
   "id": "64f607d0-c207-4ea5-8476-b1b09ce3c866",
   "metadata": {},
   "outputs": [],
   "source": [
    "#shortest path\n",
    "conn.query(\"match p=shortestpath( (:Person {name: 'Eddard Stark'}) -[*] -(:Person {name: 'Vance'})) return p\")[0]"
   ]
  },
  {
   "cell_type": "code",
   "execution_count": null,
   "id": "e84c3508-7332-4419-826c-6d94467eda35",
   "metadata": {},
   "outputs": [],
   "source": [
    "#in memeory weighted graph\n",
    "conn.query(\"call gds.graph.create.cypher('people-weighted', 'MATCH(n:Person) return id(n) as id', 'MATCH( (n:Person) - [r] -> (m:Person) ) return id(n) as source, id(m) as target, r.weight as weight')\")"
   ]
  },
  {
   "cell_type": "code",
   "execution_count": null,
   "id": "a9e080c8-77e4-481b-a429-35a673d7a702",
   "metadata": {},
   "outputs": [],
   "source": [
    "property_query = \"\"\"\n",
    "call gds.graph.streamRelationshipProperty('people-weighted', 'weight')\n",
    "YIELD sourceNodeId, targetNodeId, propertyValue as weight\n",
    "WHERE TOSTRING(TOFLOAT(weight)) <> 'NaN'\n",
    "RETURN\n",
    "    gds.util.asNode(sourceNodeId).name as person1,\n",
    "    gds.util.asNode(targetNodeId).name as person2,\n",
    "    weight\n",
    "ORDER BY weight DESC \n",
    "LIMIT 10\n",
    "\"\"\"\n",
    "conn.query(property_query)"
   ]
  },
  {
   "cell_type": "code",
   "execution_count": null,
   "id": "2c4d42ff-e9d7-4d3e-aed6-a196c5e8d110",
   "metadata": {},
   "outputs": [],
   "source": [
    "create_interactions_query = \"\"\"\n",
    "call gds.graph.create.cypher('interactions-weighted', \n",
    "'MATCH(n) WHERE n:Person or n:King return id(n) as id',\n",
    "'MATCH( (n:Person) - [r: INTERACTS_1 | INTERACTS_5] -> (m:Person) ) return id(n) as source, id(m) as target, r.weight as weight')\n",
    "\"\"\"\n",
    "conn.query(create_interactions_query)"
   ]
  },
  {
   "cell_type": "code",
   "execution_count": null,
   "id": "dcd524ed-718c-4ec3-a85f-0f2beb1c5861",
   "metadata": {},
   "outputs": [],
   "source": [
    "list_em = \"\"\"\n",
    "call gds.graph.list()\n",
    "\"\"\"\n",
    "conn.query(list_em)"
   ]
  },
  {
   "cell_type": "code",
   "execution_count": null,
   "id": "9904ca12-3d35-42ab-a584-a668ec8dfd48",
   "metadata": {},
   "outputs": [],
   "source": [
    "drop_em = \"\"\"\n",
    "call gds.graph.drop('people-weighted')\n",
    "\"\"\"\n",
    "conn.query(drop_em)\n",
    "\n",
    "drop_em = \"\"\"\n",
    "call gds.graph.drop('interactions-weighted')\n",
    "\"\"\"\n",
    "conn.query(drop_em)"
   ]
  },
  {
   "cell_type": "code",
   "execution_count": null,
   "id": "0513256a-673d-410a-b0ad-fc3cde7f8151",
   "metadata": {},
   "outputs": [],
   "source": [
    "native_creation = \"\"\"\n",
    "call gds.graph.create('interactions', 'Person', 'INTERACTS')\n",
    "\"\"\"\n",
    "\n",
    "conn.query(native_creation)"
   ]
  },
  {
   "cell_type": "code",
   "execution_count": null,
   "id": "7af89ad1-8690-4b01-a03e-13bf21d864f1",
   "metadata": {},
   "outputs": [],
   "source": [
    "native_ucreation = \"\"\"\n",
    "call gds.graph.create('interactions-undirected', 'Person', {INTERACTS: {orientation: 'UNDIRECTED'}} )\n",
    "\"\"\"\n",
    "\n",
    "conn.query(native_ucreation)"
   ]
  },
  {
   "cell_type": "code",
   "execution_count": null,
   "id": "b6494661-80b8-4cf2-9b4f-9944c16382dc",
   "metadata": {},
   "outputs": [],
   "source": [
    "native_wcreation = \"\"\"\n",
    "call gds.graph.create('interactions-weighted', 'Person', {INTERACTS: {properties: 'weight'}} )\n",
    "\"\"\"\n",
    "\n",
    "conn.query(native_wcreation)"
   ]
  },
  {
   "cell_type": "code",
   "execution_count": null,
   "id": "7dde2cb4-8b3b-4399-9010-b9631c2ac3ad",
   "metadata": {},
   "outputs": [],
   "source": [
    "native_belong = \"\"\"\n",
    "call gds.graph.create('people-houses', ['Person', 'House'], 'BELONGS_TO' )\n",
    "\"\"\"\n",
    "\n",
    "conn.query(native_belong)"
   ]
  },
  {
   "cell_type": "code",
   "execution_count": null,
   "id": "13a78dfe-82da-406d-bfdc-1afcc67a1d79",
   "metadata": {},
   "outputs": [],
   "source": [
    "native_complicated = \"\"\"\n",
    "call gds.graph.create('complicate-graph', ['Person', 'House'], {INTERACTS: {properties: 'weight', orientation: 'UNDIRECTED'}, BELONGS_TO: {orientation: 'NATURAL'}} )\n",
    "\"\"\"\n",
    "\n",
    "conn.query(native_complicated)"
   ]
  },
  {
   "cell_type": "code",
   "execution_count": null,
   "id": "769ee874-ad59-4f91-82c5-021a7b146c8e",
   "metadata": {},
   "outputs": [],
   "source": [
    "#pagerank\n",
    "\n",
    "page_rank_call = \"\"\"\n",
    "CALL gds.pageRank.stream( \"interactions-undirected\", {} ) \n",
    "YIELD nodeId,score \n",
    "RETURN gds.util.asNode(nodeId).name as name, score \n",
    "ORDER by score DESC \n",
    "LIMIT 10;\n",
    "\"\"\"\n",
    "\n",
    "conn.query(page_rank_call)"
   ]
  },
  {
   "cell_type": "code",
   "execution_count": null,
   "id": "5d4e8c01-2141-4e59-85f5-13b22f8930cf",
   "metadata": {},
   "outputs": [],
   "source": [
    "#weighted pagerank\n",
    "\n",
    "weighted_page_rank_call = \"\"\"\n",
    "CALL gds.pageRank.stream( \"interactions-weighted\", {} ) \n",
    "YIELD nodeId,score \n",
    "RETURN gds.util.asNode(nodeId).name as name, score \n",
    "ORDER by score DESC \n",
    "LIMIT 10;\n",
    "\"\"\"\n",
    "\n",
    "conn.query(weighted_page_rank_call)"
   ]
  },
  {
   "cell_type": "code",
   "execution_count": null,
   "id": "878e189d-3cff-4ef2-9a05-d97df75c1d96",
   "metadata": {},
   "outputs": [],
   "source": [
    "#betweeness centrality (no weights supported)\n",
    "\n",
    "betweeness_call = \"\"\"\n",
    "CALL gds.betweenness.stream( \"interactions-undirected\", {} ) \n",
    "YIELD nodeId,score \n",
    "RETURN gds.util.asNode(nodeId).name as name, score \n",
    "ORDER by score DESC \n",
    "LIMIT 10;\n",
    "\"\"\"\n",
    "\n",
    "conn.query(betweeness_call)"
   ]
  },
  {
   "cell_type": "code",
   "execution_count": null,
   "id": "28b4433c-c3ed-4349-869f-40fdbd44ebe8",
   "metadata": {},
   "outputs": [],
   "source": [
    "#degree centrality (no weights supported)\n",
    "\n",
    "degreeness_call = \"\"\"\n",
    "CALL gds.degree.stream( \"interactions-weighted\", {} ) \n",
    "YIELD nodeId,score \n",
    "RETURN gds.util.asNode(nodeId).name as name, score \n",
    "ORDER by score DESC \n",
    "LIMIT 10;\n",
    "\"\"\"\n",
    "\n",
    "conn.query(degreeness_call)"
   ]
  },
  {
   "cell_type": "code",
   "execution_count": null,
   "id": "fbb47e5f-a979-4ee8-b9bc-af6dcab45729",
   "metadata": {},
   "outputs": [],
   "source": [
    "#unweighted louvain\n",
    "\n",
    "louvain_method = \"\"\"\n",
    "CALL gds.louvain.stream( \"interactions-undirected\", {} ) \n",
    "YIELD nodeId,communityId \n",
    "RETURN communityId, count(distinct nodeId) as members\n",
    "ORDER by members DESC \n",
    "LIMIT 10;\n",
    "\"\"\"\n",
    "\n",
    "conn.query(louvain_method)"
   ]
  },
  {
   "cell_type": "code",
   "execution_count": null,
   "id": "04b8a239-5ad9-4b04-893b-64a079c60142",
   "metadata": {},
   "outputs": [],
   "source": [
    "#weighted louvain\n",
    "\n",
    "weighted_louvain_method = \"\"\"\n",
    "CALL gds.louvain.stream( \"interactions-weighted\", {relationshipWeightProperty: \"weight\"} ) \n",
    "YIELD nodeId,communityId \n",
    "RETURN communityId, count(distinct nodeId) as members\n",
    "ORDER by members DESC \n",
    "LIMIT 10;\n",
    "\"\"\"\n",
    "\n",
    "conn.query(weighted_louvain_method)"
   ]
  },
  {
   "cell_type": "code",
   "execution_count": null,
   "id": "172afd9a-bef0-4440-b5b3-0a6efe23dbf4",
   "metadata": {},
   "outputs": [],
   "source": [
    "#unweighted louvain modularity\n",
    "\n",
    "write_louvain_method = \"\"\"\n",
    "CALL gds.louvain.write( \"interactions-undirected\", {writeProperty: \"louv_community\"} ) \n",
    "YIELD communityCount,modularity, modularities \n",
    "\"\"\"\n",
    "\n",
    "conn.query(write_louvain_method)"
   ]
  },
  {
   "cell_type": "code",
   "execution_count": null,
   "id": "c218a91f-62fb-41b3-a7d7-ba012300a81c",
   "metadata": {},
   "outputs": [],
   "source": [
    "#weighted louvain modularity\n",
    "\n",
    "write_weighted_louvain_method = \"\"\"\n",
    "CALL gds.louvain.write( \"interactions-weighted\", {relationshipWeightProperty: \"weight\", writeProperty: \"louv_community_weighted\"} ) \n",
    "YIELD communityCount,modularity, modularities \n",
    "\"\"\"\n",
    "\n",
    "conn.query(write_weighted_louvain_method)"
   ]
  },
  {
   "cell_type": "code",
   "execution_count": null,
   "id": "bbccadfa-96b8-44fe-b6a9-e4b9ce50b86a",
   "metadata": {},
   "outputs": [],
   "source": [
    "# drop_em = \"\"\"\n",
    "# call gds.graph.drop('interactions-undirected\"')\n",
    "# \"\"\"\n",
    "# conn.query(drop_em)\n",
    "\n",
    "# drop_em = \"\"\"\n",
    "# call gds.graph.drop('interactions-weighted')\n",
    "# \"\"\"\n",
    "# conn.query(drop_em)"
   ]
  }
 ],
 "metadata": {
  "kernelspec": {
   "display_name": "Python 3 (ipykernel)",
   "language": "python",
   "name": "python3"
  },
  "language_info": {
   "codemirror_mode": {
    "name": "ipython",
    "version": 3
   },
   "file_extension": ".py",
   "mimetype": "text/x-python",
   "name": "python",
   "nbconvert_exporter": "python",
   "pygments_lexer": "ipython3",
   "version": "3.10.0"
  }
 },
 "nbformat": 4,
 "nbformat_minor": 5
}
