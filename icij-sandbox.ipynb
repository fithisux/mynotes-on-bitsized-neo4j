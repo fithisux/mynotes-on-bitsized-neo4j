{
 "cells": [
  {
   "cell_type": "code",
   "execution_count": null,
   "id": "8b02175e-44e5-4312-8d3e-c4203e978fc7",
   "metadata": {},
   "outputs": [],
   "source": [
    "import pandas as pd\n",
    "import numpy as np\n",
    "from py2neo import Graph, Node, Relationship\n",
    "\n",
    "url = 'bolt://18.234.255.25:7687'\n",
    "pwd = 'garage-swims-item'\n",
    "\n",
    "graph = Graph(uri=url, auth=(\"neo4j\", pwd))\n",
    "\n",
    "query = 'MATCH (n) return COUNT(n)'\n",
    "result = graph.query(query)\n",
    "result"
   ]
  },
  {
   "cell_type": "code",
   "execution_count": null,
   "id": "95518004-672f-4b5c-9a68-b46a18e71789",
   "metadata": {},
   "outputs": [],
   "source": [
    "#officers\n",
    "\n",
    "officers_inmemory_graph = \"\"\"\n",
    "CALL gds.graph.create( \"officers\", ['Officer', 'Entity', 'Intermediary'], {OFFICER_OF: {orientation: \"UNDIRECTED\"}} ) \n",
    "YIELD nodeCount,relationshipCount \n",
    "\"\"\"\n",
    "\n",
    "graph.query(officers_inmemory_graph)"
   ]
  },
  {
   "cell_type": "code",
   "execution_count": null,
   "id": "fc6828ef-fa83-469c-9937-3a06069245d7",
   "metadata": {},
   "outputs": [],
   "source": [
    "embedding_query = \"\"\"\n",
    "CALL gds.fastRP.stream( \"officers\", {embeddingDimension: 10, randomSeed:42, normalizationStrength: -0.5, iterationWeights: [0.0, 0.0, 1.0]} ) \n",
    "YIELD nodeId, embedding \n",
    "\"\"\"\n",
    "\n",
    "graph.query(embedding_query)"
   ]
  },
  {
   "cell_type": "code",
   "execution_count": null,
   "id": "8c75ea08-3b28-417b-88d3-c38b43552edc",
   "metadata": {},
   "outputs": [],
   "source": [
    "# drop_em = \"\"\"\n",
    "# call gds.graph.drop('officers')\n",
    "# \"\"\"\n",
    "# graph.query(drop_em)"
   ]
  },
  {
   "cell_type": "code",
   "execution_count": null,
   "id": "50e2ab7e-b0f2-4a25-b7cb-9283f8973550",
   "metadata": {},
   "outputs": [],
   "source": []
  }
 ],
 "metadata": {
  "kernelspec": {
   "display_name": "Python 3 (ipykernel)",
   "language": "python",
   "name": "python3"
  },
  "language_info": {
   "codemirror_mode": {
    "name": "ipython",
    "version": 3
   },
   "file_extension": ".py",
   "mimetype": "text/x-python",
   "name": "python",
   "nbconvert_exporter": "python",
   "pygments_lexer": "ipython3",
   "version": "3.10.0"
  }
 },
 "nbformat": 4,
 "nbformat_minor": 5
}
