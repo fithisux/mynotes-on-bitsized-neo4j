{
 "cells": [
  {
   "cell_type": "code",
   "execution_count": 13,
   "id": "19cb5b56-7841-4142-8124-5005f03d1573",
   "metadata": {},
   "outputs": [],
   "source": [
    "%matplotlib inline\n",
    "\n",
    "import ast\n",
    "\n",
    "from neo4j import GraphDatabase\n",
    "\n",
    "import numpy as np\n",
    "import pandas as pd\n",
    "\n",
    "from sklearn import svm\n",
    "from sklearn.metrics import accuracy_score\n",
    "from sklearn.model_selection import train_test_split\n",
    "from sklearn.metrics import plot_confusion_matrix\n",
    "\n",
    "import matplotlib.pyplot as plt\n",
    "from mpl_toolkits.mplot3d import Axes3D\n",
    "import seaborn as sns"
   ]
  },
  {
   "cell_type": "code",
   "execution_count": 14,
   "id": "b1a7636c-3072-42e3-b6be-697cced24c4b",
   "metadata": {},
   "outputs": [],
   "source": [
    "class Neo4jConnection:\n",
    "    \n",
    "    def __init__(self, uri, user, pwd):\n",
    "        self.__uri = uri\n",
    "        self.__user = user\n",
    "        self.__pwd = pwd\n",
    "        self.__driver = None\n",
    "        try:\n",
    "            self.__driver = GraphDatabase.driver(self.__uri, auth=(self.__user, self.__pwd))\n",
    "        except Exception as e:\n",
    "            print(\"Failed to create the driver:\", e)\n",
    "        \n",
    "    def close(self):\n",
    "        if self.__driver is not None:\n",
    "            self.__driver.close()\n",
    "        \n",
    "    def query(self, query, parameters=None, db=None):\n",
    "        assert self.__driver is not None, \"Driver not initialized!\"\n",
    "        session = None\n",
    "        response = None\n",
    "        try: \n",
    "            session = self.__driver.session(database=db) if db is not None else self.__driver.session() \n",
    "            response = list(session.run(query, parameters))\n",
    "        except Exception as e:\n",
    "            print(\"Query failed:\", e)\n",
    "        finally: \n",
    "            if session is not None:\n",
    "                session.close()\n",
    "        return response"
   ]
  },
  {
   "cell_type": "code",
   "execution_count": 15,
   "id": "9e444f92-cd1b-4bc8-afe4-0bfd8abcd36a",
   "metadata": {},
   "outputs": [
    {
     "data": {
      "text/plain": [
       "[<Record COUNT(n)=2708>]"
      ]
     },
     "execution_count": 15,
     "metadata": {},
     "output_type": "execute_result"
    }
   ],
   "source": [
    "uri = 'bolt://localhost:7687'\n",
    "pwd = 'myneo4j'\n",
    "\n",
    "conn = Neo4jConnection(uri=uri, user=\"neo4j\", pwd=pwd)\n",
    "\n",
    "conn.query(\"MATCH (n) RETURN COUNT(n)\")\n"
   ]
  },
  {
   "cell_type": "code",
   "execution_count": 24,
   "id": "a18d66f5-7ab6-45d1-a6e0-c9c36ccad9f5",
   "metadata": {},
   "outputs": [],
   "source": [
    "from graphdatascience import GraphDataScience\n",
    "\n",
    "gds = GraphDataScience(uri, auth=(\"neo4j\",pwd))"
   ]
  },
  {
   "cell_type": "code",
   "execution_count": 16,
   "id": "5a35fb0b-c6a9-43b5-929b-c071421ad269",
   "metadata": {},
   "outputs": [
    {
     "data": {
      "text/plain": [
       "[]"
      ]
     },
     "execution_count": 16,
     "metadata": {},
     "output_type": "execute_result"
    }
   ],
   "source": [
    "query = \"\"\"CREATE CONSTRAINT papers IF NOT EXISTS ON (p:Paper) ASSERT p.id IS UNIQUE\"\"\"\n",
    "\n",
    "conn.query(query)"
   ]
  },
  {
   "cell_type": "code",
   "execution_count": 17,
   "id": "af13a013-99e1-48bb-8cf0-31f8a67a11e8",
   "metadata": {},
   "outputs": [
    {
     "data": {
      "text/plain": [
       "[<Record COUNT(*)=2708>]"
      ]
     },
     "execution_count": 17,
     "metadata": {},
     "output_type": "execute_result"
    }
   ],
   "source": [
    "query = \"\"\"LOAD CSV WITH HEADERS FROM 'https://raw.githubusercontent.com/cj2001/pydata2021/main/notebooks/data/cora_nodes.csv' AS line\n",
    "           WITH line\n",
    "           MERGE (p:Paper {id: line.id})\n",
    "               ON CREATE SET p.subject = line.subject, p.features = line.features\n",
    "           RETURN COUNT(*)\n",
    "\"\"\"\n",
    "\n",
    "conn.query(query)"
   ]
  },
  {
   "cell_type": "code",
   "execution_count": 18,
   "id": "9321b3c9-df12-44b1-9726-d6813647761e",
   "metadata": {},
   "outputs": [
    {
     "data": {
      "text/plain": [
       "[<Record COUNT(*)=5429>]"
      ]
     },
     "execution_count": 18,
     "metadata": {},
     "output_type": "execute_result"
    }
   ],
   "source": [
    "query = \"\"\"LOAD CSV WITH HEADERS FROM 'https://raw.githubusercontent.com/cj2001/pydata2021/main/notebooks/data/cora_edges.csv' AS line\n",
    "           WITH line\n",
    "           MATCH (source:Paper {id: line.source})\n",
    "           MATCH (target:Paper {id: line.target})\n",
    "           MERGE (source)-[:CITES]->(target)\n",
    "           RETURN COUNT(*)\n",
    "\"\"\"\n",
    "\n",
    "conn.query(query)"
   ]
  },
  {
   "cell_type": "code",
   "execution_count": 25,
   "id": "b2e52cc0-5bf7-4174-984d-6b6674fa58a2",
   "metadata": {},
   "outputs": [
    {
     "data": {
      "text/html": [
       "<div>\n",
       "<style scoped>\n",
       "    .dataframe tbody tr th:only-of-type {\n",
       "        vertical-align: middle;\n",
       "    }\n",
       "\n",
       "    .dataframe tbody tr th {\n",
       "        vertical-align: top;\n",
       "    }\n",
       "\n",
       "    .dataframe thead th {\n",
       "        text-align: right;\n",
       "    }\n",
       "</style>\n",
       "<table border=\"1\" class=\"dataframe\">\n",
       "  <thead>\n",
       "    <tr style=\"text-align: right;\">\n",
       "      <th></th>\n",
       "      <th>graphName</th>\n",
       "      <th>nodeProjection</th>\n",
       "      <th>nodeCount</th>\n",
       "      <th>relationshipProjection</th>\n",
       "      <th>relationshipCount</th>\n",
       "    </tr>\n",
       "  </thead>\n",
       "  <tbody>\n",
       "    <tr>\n",
       "      <th>0</th>\n",
       "      <td>cora</td>\n",
       "      <td>{'Paper': {'label': 'Paper', 'properties': {}}}</td>\n",
       "      <td>2708</td>\n",
       "      <td>{'CITES': {'orientation': 'UNDIRECTED', 'aggre...</td>\n",
       "      <td>10858</td>\n",
       "    </tr>\n",
       "  </tbody>\n",
       "</table>\n",
       "</div>"
      ],
      "text/plain": [
       "  graphName                                   nodeProjection  nodeCount  \\\n",
       "0      cora  {'Paper': {'label': 'Paper', 'properties': {}}}       2708   \n",
       "\n",
       "                              relationshipProjection  relationshipCount  \n",
       "0  {'CITES': {'orientation': 'UNDIRECTED', 'aggre...              10858  "
      ]
     },
     "execution_count": 25,
     "metadata": {},
     "output_type": "execute_result"
    }
   ],
   "source": [
    "\n",
    "query = \"\"\"CALL gds.graph.project(\n",
    "                'cora',\n",
    "                'Paper',\n",
    "                {\n",
    "                  CITES: \n",
    "                  {\n",
    "                      orientation: 'UNDIRECTED'\n",
    "                  }\n",
    "               }\n",
    "            )\n",
    "            YIELD\n",
    "                graphName, nodeProjection, nodeCount, relationshipProjection, relationshipCount\n",
    "\"\"\"\n",
    "\n",
    "gds.run_cypher(query)"
   ]
  },
  {
   "cell_type": "code",
   "execution_count": 26,
   "id": "e0d3d53d-9046-4eff-8f6e-9c1e244a5d99",
   "metadata": {},
   "outputs": [],
   "source": [
    "def create_embs(dim=10):\n",
    "\n",
    "    query = \"\"\"CALL gds.fastRP.write(\n",
    "               'cora',\n",
    "               {\n",
    "                   embeddingDimension: %d,\n",
    "                   iterationWeights: [0.0, 0.0, 1.0, 1.0],\n",
    "                   writeProperty: 'fastrp_embedding'\n",
    "               }\n",
    "           )\n",
    "    \"\"\" % (dim)\n",
    "\n",
    "    conn.query(query)\n",
    "    return\n",
    "\n",
    "def create_X_y():\n",
    "\n",
    "    query = \"\"\"MATCH (p:Paper) RETURN p.id AS id, p.subject AS subject, p.fastrp_embedding AS fastrp_embedding\"\"\"\n",
    "    emb_df = pd.DataFrame([dict(_) for _ in conn.query(query)])\n",
    "    emb_df['target'] = pd.factorize(emb_df['subject'])[0].astype(\"float32\")\n",
    "    y = emb_df['target'].to_numpy()\n",
    "    emb_df['X'] = emb_df['fastrp_embedding'].apply(lambda x: np.array(x))\n",
    "    X = np.array(emb_df['X'].to_list())\n",
    "\n",
    "    return X, y"
   ]
  },
  {
   "cell_type": "code",
   "execution_count": 27,
   "id": "dc081168-9e2e-4cb1-a806-84425f1fb534",
   "metadata": {},
   "outputs": [],
   "source": [
    "def modeler(dim, k_folds=5, model='linear', show_matrix=True):\n",
    "\n",
    "    acc_scores = []\n",
    "\n",
    "    create_embs(dim=dim)\n",
    "    X, y = create_X_y()\n",
    "\n",
    "    for i in range(0, k_folds):\n",
    "        \n",
    "        X_train, X_test, y_train, y_test = train_test_split(X, y, test_size=0.25)\n",
    "        clf = svm.SVC(kernel='linear', class_weight='balanced')\n",
    "        clf.fit(X_train, y_train)\n",
    "        pred = clf.predict(X_test)\n",
    "\n",
    "        acc = accuracy_score(pred, y_test)\n",
    "        acc_scores.append(acc)        \n",
    "        \n",
    "    print('Accuracy scores: ', acc_scores)\n",
    "    print('Mean accuracy: ', np.mean(acc_scores))\n",
    "    \n",
    "    if show_matrix:\n",
    "        matrix = plot_confusion_matrix(clf, X_test, y_test, cmap=plt.cm.Blues, normalize='true')\n",
    "        plt.show(matrix)\n",
    "        plt.show()\n",
    "        \n",
    "    return"
   ]
  },
  {
   "cell_type": "code",
   "execution_count": 28,
   "id": "1ec92147-cf30-452e-8068-aa05f7db8620",
   "metadata": {},
   "outputs": [
    {
     "name": "stdout",
     "output_type": "stream",
     "text": [
      "Accuracy scores:  [0.8552437223042836, 0.8567208271787297, 0.8375184638109305, 0.8330871491875923, 0.827178729689808]\n",
      "Mean accuracy:  0.8419497784342689\n"
     ]
    },
    {
     "name": "stderr",
     "output_type": "stream",
     "text": [
      "/Users/vassilisanagnostopoulos/.pyenv/versions/3.10.3/lib/python3.10/site-packages/sklearn/utils/deprecation.py:87: FutureWarning: Function plot_confusion_matrix is deprecated; Function `plot_confusion_matrix` is deprecated in 1.0 and will be removed in 1.2. Use one of the class methods: ConfusionMatrixDisplay.from_predictions or ConfusionMatrixDisplay.from_estimator.\n",
      "  warnings.warn(msg, category=FutureWarning)\n"
     ]
    },
    {
     "data": {
      "image/png": "[encoded data removed]",
      "text/plain": [
       "<Figure size 432x288 with 2 Axes>"
      ]
     },
     "metadata": {
      "needs_background": "light"
     },
     "output_type": "display_data"
    }
   ],
   "source": [
    "modeler(dim=256)"
   ]
  },
  {
   "cell_type": "code",
   "execution_count": null,
   "id": "404c5fd8-9340-40dc-ac6f-9dce6505d530",
   "metadata": {},
   "outputs": [],
   "source": []
  }
 ],
 "metadata": {
  "kernelspec": {
   "display_name": "Python 3 (ipykernel)",
   "language": "python",
   "name": "python3"
  },
  "language_info": {
   "codemirror_mode": {
    "name": "ipython",
    "version": 3
   },
   "file_extension": ".py",
   "mimetype": "text/x-python",
   "name": "python",
   "nbconvert_exporter": "python",
   "pygments_lexer": "ipython3",
   "version": "3.10.3"
  }
 },
 "nbformat": 4,
 "nbformat_minor": 5
}
